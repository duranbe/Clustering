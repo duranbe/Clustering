{
 "cells": [
  {
   "cell_type": "code",
   "execution_count": 197,
   "metadata": {},
   "outputs": [],
   "source": [
    "import numpy as np\n",
    "import matplotlib.pyplot as plt"
   ]
  },
  {
   "cell_type": "markdown",
   "metadata": {},
   "source": [
    "https://fr.wikipedia.org/wiki/K-moyennes"
   ]
  },
  {
   "cell_type": "code",
   "execution_count": 198,
   "metadata": {},
   "outputs": [],
   "source": [
    "# 2D Points Dataset\n",
    "x = np.array([1,0,2.5,6,1,8,3,0,3,9,8,4,5,6])\n",
    "y = np.array([1,4,7,2,3,4,7,2,6,1,3,6,7,4.5])\n",
    "\n",
    "n = x.shape[0] #Nb of points\n",
    "\n",
    "k=4 # Nb of clusters    k<n\n",
    "\n",
    "points = np.array([x,y])\n",
    "points=points.T\n",
    "# n 2D points "
   ]
  },
  {
   "cell_type": "markdown",
   "metadata": {},
   "source": [
    "### Euclidean distance calculation\n",
    "Entre chaque point et chaque position moyenne"
   ]
  },
  {
   "cell_type": "code",
   "execution_count": 199,
   "metadata": {},
   "outputs": [
    {
     "data": {
      "image/png": "[encoded data removed]",
      "text/plain": [
       "<Figure size 432x288 with 1 Axes>"
      ]
     },
     "metadata": {
      "needs_background": "light"
     },
     "output_type": "display_data"
    }
   ],
   "source": [
    "a = np.random.randint(low=0,high=20,size=(k,2))/2 #Generate random points \n",
    "\n",
    "plt.scatter(x,y,color='blue')\n",
    "plt.scatter(a[:,0],a[:,1],color='red')\n",
    "\n",
    "for i in range(0,n): \n",
    "    plt.text(x[i], y[i], str(i), fontsize=15)\n",
    "    \n",
    "for i in range(0,k): \n",
    "    plt.text(a[i,0],a[i,1], chr(i+65), fontsize=15)"
   ]
  },
  {
   "cell_type": "code",
   "execution_count": 200,
   "metadata": {},
   "outputs": [
    {
     "name": "stdout",
     "output_type": "stream",
     "text": [
      "(4, 14, 2)\n",
      "(4, 14, 2)\n"
     ]
    }
   ],
   "source": [
    "points=np.broadcast_to(points,(k,14,2)) \n",
    "print(points.shape) # (k,n,2)\n",
    "\n",
    "c = []\n",
    "for i in range(0,k):    #Need to find a numpy way to do this to avoid loops\n",
    "    c.append(np.broadcast_to(a[i],(n,2)))\n",
    "    \n",
    "c = np.array(c)\n",
    "print(c.shape) # (k,n,2)"
   ]
  },
  {
   "cell_type": "code",
   "execution_count": 201,
   "metadata": {},
   "outputs": [
    {
     "data": {
      "text/plain": [
       "(4, 14)"
      ]
     },
     "execution_count": 201,
     "metadata": {},
     "output_type": "execute_result"
    }
   ],
   "source": [
    "d = np.linalg.norm(points-c,axis=2) # Euclidean Distance\n",
    "d.shape # (k,n) because distance is a scalar here"
   ]
  },
  {
   "cell_type": "code",
   "execution_count": 202,
   "metadata": {},
   "outputs": [
    {
     "data": {
      "text/plain": [
       "array([0, 0, 3, 2, 0, 1, 3, 0, 3, 2, 1, 3, 3, 1], dtype=int64)"
      ]
     },
     "execution_count": 202,
     "metadata": {},
     "output_type": "execute_result"
    }
   ],
   "source": [
    "args=np.argmin(d,axis=0) #For each point get the argument of the minimum distance\n",
    "args"
   ]
  },
  {
   "cell_type": "code",
   "execution_count": 203,
   "metadata": {},
   "outputs": [
    {
     "data": {
      "image/png": "[encoded data removed]",
      "text/plain": [
       "<Figure size 432x288 with 1 Axes>"
      ]
     },
     "metadata": {
      "needs_background": "light"
     },
     "output_type": "display_data"
    }
   ],
   "source": [
    "plt.scatter(x,y,color='blue')\n",
    "plt.scatter(a[:,0],a[:,1],color='red')\n",
    "for i in range(0,n): \n",
    "    plt.text(x[i], y[i], chr(args[i]+65), fontsize=15)\n",
    "for i in range(0,k): \n",
    "    plt.text(a[i,0],a[i,1], chr(i+65), fontsize=15)"
   ]
  },
  {
   "cell_type": "code",
   "execution_count": 204,
   "metadata": {},
   "outputs": [
    {
     "data": {
      "text/plain": [
       "array([[0.5       , 2.5       ],\n",
       "       [7.33333333, 3.83333333],\n",
       "       [7.5       , 1.5       ],\n",
       "       [3.5       , 6.6       ]])"
      ]
     },
     "execution_count": 204,
     "metadata": {},
     "output_type": "execute_result"
    }
   ],
   "source": [
    "km = np.array([x,y]) #Points\n",
    "new_m=np.zeros((k,2))\n",
    "for i in range(0,k):\n",
    "    new_m[i]=np.mean(km[:,args==i],axis=1) #Calcul of new k using the mean coordinates\n",
    "new_m  "
   ]
  },
  {
   "cell_type": "code",
   "execution_count": 205,
   "metadata": {},
   "outputs": [
    {
     "data": {
      "image/png": "[encoded data removed]",
      "text/plain": [
       "<Figure size 432x288 with 1 Axes>"
      ]
     },
     "metadata": {
      "needs_background": "light"
     },
     "output_type": "display_data"
    }
   ],
   "source": [
    "plt.scatter(x,y,color='blue')\n",
    "plt.scatter(new_m[:,0],new_m[:,1],color='red')\n",
    "for i in range(0,n): \n",
    "    plt.text(x[i], y[i], chr(args[i]+65), fontsize=15)\n",
    "for i in range(0,k): \n",
    "    plt.text(new_m[i,0],new_m[i,1], chr(i+65), fontsize=15)"
   ]
  },
  {
   "cell_type": "code",
   "execution_count": null,
   "metadata": {},
   "outputs": [],
   "source": []
  }
 ],
 "metadata": {
  "kernelspec": {
   "display_name": "Python 3",
   "language": "python",
   "name": "python3"
  },
  "language_info": {
   "codemirror_mode": {
    "name": "ipython",
    "version": 3
   },
   "file_extension": ".py",
   "mimetype": "text/x-python",
   "name": "python",
   "nbconvert_exporter": "python",
   "pygments_lexer": "ipython3",
   "version": "3.7.4"
  }
 },
 "nbformat": 4,
 "nbformat_minor": 4
}
