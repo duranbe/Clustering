{
 "cells": [
  {
   "cell_type": "code",
   "execution_count": 91,
   "metadata": {},
   "outputs": [],
   "source": [
    "import numpy as np\n",
    "import matplotlib.pyplot as plt"
   ]
  },
  {
   "cell_type": "markdown",
   "metadata": {},
   "source": [
    "https://fr.wikipedia.org/wiki/K-moyennes"
   ]
  },
  {
   "cell_type": "code",
   "execution_count": 92,
   "metadata": {},
   "outputs": [],
   "source": [
    "# 2D Points Dataset\n",
    "x = np.array([1,0,2.5,6,1,8,3,0,3,9,8,4,5,6.5])\n",
    "y = np.array([1,4,7,2,3,4,7,2,6,1,3,6,7,5])\n",
    "\n",
    "n = x.shape[0] #Nb of points\n",
    "k = 3 # Nb of clusters    k<n\n",
    "\n",
    "middles = np.random.randint(low=0,high=20,size=(k,2))/2   #Generate random points \n",
    "\n",
    "points = np.array([x,y])\n",
    "points = points.T # n 2D points  \n",
    "\n",
    "l = points.shape[1] #Len of vector : 2 (Point)"
   ]
  },
  {
   "cell_type": "code",
   "execution_count": 93,
   "metadata": {},
   "outputs": [
    {
     "data": {
      "image/png": "[encoded data removed]",
      "text/plain": [
       "<Figure size 432x288 with 1 Axes>"
      ]
     },
     "metadata": {
      "needs_background": "light"
     },
     "output_type": "display_data"
    }
   ],
   "source": [
    "plt.scatter(points[:,0],points[:,1],color='blue')\n",
    "plt.scatter(middles[:,0],middles[:,1],color='red')\n",
    "for i in range(0,n): \n",
    "    plt.text(points[i][0], points[i][1], str(i), fontsize=15)\n",
    "for i in range(0,k): \n",
    "    plt.text(middles[i,0],middles[i,1], chr(i+65), fontsize=15)"
   ]
  },
  {
   "cell_type": "markdown",
   "metadata": {},
   "source": [
    "## Euclidean distance calculation\n"
   ]
  },
  {
   "cell_type": "markdown",
   "metadata": {},
   "source": [
    "#### Inputs : \n",
    "\n",
    "<img src=\"img/Understanding_KMeans/input.png\" width=150  />\n",
    "\n",
    "To compute the distance between each point and each middles we need to broadcast the two array \n",
    "<img src=\"img/Understanding_KMeans/step1.1.png\" width=450  />\n",
    "So now we can calculate substract each point by each middle and then pass the result to the the norm function\n",
    "<img src=\"img/Understanding_KMeans/norm.png\" width=300  />\n",
    "\n",
    "<img src=\"img/Understanding_KMeans/step2.png\" width=300  />\n",
    "Then for each point we can choose the min distance\n",
    "\n",
    "Our result will be :  [1, 1, 2, 1, 1, 1, 2, 1, 2, 1, 1, 2, 2]"
   ]
  },
  {
   "cell_type": "code",
   "execution_count": 94,
   "metadata": {},
   "outputs": [],
   "source": [
    "def euclid_distances(points,middles):\n",
    "    \n",
    "    k = middles.shape[0]\n",
    "    n = points.shape[0]\n",
    "    l = points.shape[1]\n",
    "\n",
    "    points=np.broadcast_to(points,(k,n,l)) \n",
    "    # (k,n,2)\n",
    "    \n",
    "    c = np.zeros((k,n,l))\n",
    "    for i in range(0,k):         #Need to find a numpy way to do this to avoid loops\n",
    "        c[i]=np.broadcast_to(middles[i],(n,l))\n",
    "    # (k,n,2)\n",
    "    \n",
    "    d = np.linalg.norm(points-c,axis=2) # Euclidean Distance\n",
    "    # (k,n) because distance is a scalar here\n",
    " \n",
    "    args=np.argmin(d,axis=0) #For each point get the argument of the minimum distance\n",
    "    \n",
    "    return(args)\n"
   ]
  },
  {
   "cell_type": "code",
   "execution_count": 95,
   "metadata": {},
   "outputs": [],
   "source": [
    "def new_middles(points,middles,belongs):\n",
    "    #Calcul of new k using the mean coordinates\n",
    "    \n",
    "    k = middles.shape[0]\n",
    "    n = points.shape[0]\n",
    "    l = points.shape[1]\n",
    "    \n",
    "    new_middles = np.zeros((k,l))\n",
    "    \n",
    "    for i in range(0,k):\n",
    "        if i in belongs:\n",
    "            new_middles[i]=np.mean(points[belongs==i,:],axis=0)\n",
    "        else:\n",
    "            new_middles[i]=middles[i]\n",
    "            \n",
    "    return(new_middles)    "
   ]
  },
  {
   "cell_type": "code",
   "execution_count": 96,
   "metadata": {},
   "outputs": [],
   "source": [
    "def scatter_plot(points,middles,belongs):\n",
    "    plt.scatter(points[:,0],points[:,1],color='blue')\n",
    "    plt.scatter(middles[:,0],middles[:,1],color='red')\n",
    "    \n",
    "    for i in range(0,n): \n",
    "        plt.text(points[i][0], points[i][1], chr(belongs[i]+65), fontsize=15)\n",
    "    for i in range(0,k): \n",
    "        plt.text(middles[i,0],middles[i,1], chr(i+65), fontsize=15)"
   ]
  },
  {
   "cell_type": "markdown",
   "metadata": {},
   "source": [
    "### Running the Algorithm"
   ]
  },
  {
   "cell_type": "code",
   "execution_count": 97,
   "metadata": {},
   "outputs": [
    {
     "name": "stdout",
     "output_type": "stream",
     "text": [
      "4.7 4.4875 3.7125000000000004 0.0 0.0 "
     ]
    }
   ],
   "source": [
    "nb = 5 #Nb of run\n",
    "\n",
    "for i in range(nb):\n",
    "    old_middles = middles\n",
    "    \n",
    "    belongs = euclid_distances(points,middles)\n",
    "    middles = new_middles(points,middles,belongs)\n",
    "                    \n",
    "    print(np.sum(np.abs(old_middles-middles)),end=' ') #Compute the sum of differences "
   ]
  },
  {
   "cell_type": "code",
   "execution_count": 98,
   "metadata": {},
   "outputs": [
    {
     "data": {
      "image/png": "[encoded data removed]",
      "text/plain": [
       "<Figure size 432x288 with 1 Axes>"
      ]
     },
     "metadata": {
      "needs_background": "light"
     },
     "output_type": "display_data"
    }
   ],
   "source": [
    "scatter_plot(points,middles,belongs)"
   ]
  },
  {
   "cell_type": "code",
   "execution_count": null,
   "metadata": {},
   "outputs": [],
   "source": []
  }
 ],
 "metadata": {
  "kernelspec": {
   "display_name": "Python 3",
   "language": "python",
   "name": "python3"
  },
  "language_info": {
   "codemirror_mode": {
    "name": "ipython",
    "version": 3
   },
   "file_extension": ".py",
   "mimetype": "text/x-python",
   "name": "python",
   "nbconvert_exporter": "python",
   "pygments_lexer": "ipython3",
   "version": "3.7.4"
  }
 },
 "nbformat": 4,
 "nbformat_minor": 4
}
