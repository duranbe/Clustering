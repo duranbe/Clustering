{
 "cells": [
  {
   "cell_type": "code",
   "execution_count": 2,
   "metadata": {},
   "outputs": [],
   "source": [
    "import numpy as np\n",
    "import pandas\n",
    "import nltk"
   ]
  },
  {
   "cell_type": "code",
   "execution_count": 3,
   "metadata": {},
   "outputs": [],
   "source": [
    "import glob #list .txt file\n",
    "pos_list=glob.glob(\"data\\\\movie-reviews-en\\\\train\\\\pos\\\\*.txt\")\n",
    "neg_list=glob.glob(\"data\\\\movie-reviews-en\\\\train\\\\neg\\\\*.txt\")"
   ]
  },
  {
   "cell_type": "code",
   "execution_count": 4,
   "metadata": {},
   "outputs": [],
   "source": [
    "#On crée un text contenant toutes les phrases, afin de compter les occurences de chaque ;ot\n",
    "#Peut être pas la bonne maniere de faire, peut etre faire un decompte pour chaque phrase \n",
    "#et apres faire une moyenne d'ocurrence pour chaque mot\n",
    "\n",
    "full_text = ''\n",
    "\n",
    "for file in pos_list:\n",
    "    f = open(file, \"r\")\n",
    "    full_text += f.read()\n",
    "\n",
    "for file in neg_list:\n",
    "    f = open(file, \"r\")\n",
    "    full_text += f.read()\n",
    "    "
   ]
  },
  {
   "cell_type": "code",
   "execution_count": 5,
   "metadata": {},
   "outputs": [],
   "source": [
    "import string\n",
    "#On supprime la ponctuation et retour de ligne\n",
    "full_text = full_text.translate(str.maketrans('', '', string.punctuation)).replace('\\n','')"
   ]
  },
  {
   "cell_type": "code",
   "execution_count": 6,
   "metadata": {},
   "outputs": [],
   "source": [
    "from collections import Counter\n",
    "#On compte le nombre d'apparition de chaque mot\n",
    "count = Counter(full_text.split())"
   ]
  },
  {
   "cell_type": "code",
   "execution_count": 7,
   "metadata": {},
   "outputs": [
    {
     "data": {
      "text/plain": [
       "45241"
      ]
     },
     "execution_count": 7,
     "metadata": {},
     "output_type": "execute_result"
    }
   ],
   "source": [
    "len(count) #Nb de mots"
   ]
  },
  {
   "cell_type": "code",
   "execution_count": 8,
   "metadata": {},
   "outputs": [
    {
     "data": {
      "text/plain": [
       "[('the', 68395),\n",
       " ('a', 34165),\n",
       " ('and', 31648),\n",
       " ('of', 30420),\n",
       " ('to', 28507),\n",
       " ('is', 22511)]"
      ]
     },
     "execution_count": 8,
     "metadata": {},
     "output_type": "execute_result"
    }
   ],
   "source": [
    "n_word = 200\n",
    "most_common = count.most_common(n_word)\n",
    "most_common[0:6]"
   ]
  },
  {
   "cell_type": "code",
   "execution_count": 10,
   "metadata": {},
   "outputs": [],
   "source": [
    "n = len(pos_list)\n",
    "data_pos = np.zeros((n,n_word))\n",
    "\n",
    "for file,i in zip(pos_list,range(n)):\n",
    "    f = open(file, \"r\")\n",
    "    text = f.read()\n",
    "    \n",
    "    for j in range(0,n_word):\n",
    "        \n",
    "        if most_common[j][0] in text:\n",
    "            data_pos[i][j]=text.split(' ').count(most_common[j][0])\n",
    "        \n",
    "        else:\n",
    "            data_pos[i][j]=0 \n",
    "      "
   ]
  },
  {
   "cell_type": "code",
   "execution_count": 11,
   "metadata": {},
   "outputs": [
    {
     "data": {
      "text/plain": [
       "array([[42., 15., 19., ...,  0.,  0.,  0.],\n",
       "       [28., 22., 17., ...,  1.,  0.,  0.],\n",
       "       [32.,  9.,  9., ...,  0.,  0.,  0.],\n",
       "       ...,\n",
       "       [39., 16., 25., ...,  0.,  0.,  1.],\n",
       "       [33., 13., 18., ...,  0.,  0.,  0.],\n",
       "       [28., 15., 16., ...,  0.,  1.,  0.]])"
      ]
     },
     "execution_count": 11,
     "metadata": {},
     "output_type": "execute_result"
    }
   ],
   "source": [
    "data_pos"
   ]
  },
  {
   "cell_type": "code",
   "execution_count": 12,
   "metadata": {},
   "outputs": [],
   "source": [
    "n = len(neg_list)\n",
    "data_neg = np.zeros((n,n_word))\n",
    "\n",
    "for file,i in zip(neg_list,range(n)):\n",
    "    f = open(file, \"r\")\n",
    "    text = f.read()\n",
    "    \n",
    "    for j in range(0,n_word):\n",
    "        \n",
    "        if most_common[j][0] in text:\n",
    "            data_neg[i][j]=text.split(' ').count(most_common[j][0])\n",
    "        else:\n",
    "            data_neg[i][j] =0 "
   ]
  },
  {
   "cell_type": "code",
   "execution_count": 13,
   "metadata": {},
   "outputs": [
    {
     "data": {
      "text/plain": [
       "array([[36., 13., 19., ...,  0.,  0.,  0.],\n",
       "       [11., 13.,  8., ...,  1.,  0.,  0.],\n",
       "       [36., 10., 11., ...,  1.,  1.,  0.],\n",
       "       ...,\n",
       "       [23., 15.,  6., ...,  0.,  0.,  0.],\n",
       "       [38., 13., 10., ...,  0.,  0.,  0.],\n",
       "       [17.,  7., 14., ...,  0.,  1.,  1.]])"
      ]
     },
     "execution_count": 13,
     "metadata": {},
     "output_type": "execute_result"
    }
   ],
   "source": [
    "data_neg"
   ]
  },
  {
   "cell_type": "code",
   "execution_count": 14,
   "metadata": {},
   "outputs": [
    {
     "ename": "NameError",
     "evalue": "name 'pd' is not defined",
     "output_type": "error",
     "traceback": [
      "\u001b[1;31m---------------------------------------------------------------------------\u001b[0m",
      "\u001b[1;31mNameError\u001b[0m                                 Traceback (most recent call last)",
      "\u001b[1;32m<ipython-input-14-afc4f3da9078>\u001b[0m in \u001b[0;36m<module>\u001b[1;34m\u001b[0m\n\u001b[1;32m----> 1\u001b[1;33m \u001b[0mdf_pos\u001b[0m \u001b[1;33m=\u001b[0m \u001b[0mpd\u001b[0m\u001b[1;33m.\u001b[0m\u001b[0mDataFrame\u001b[0m\u001b[1;33m(\u001b[0m\u001b[0mdata\u001b[0m\u001b[1;33m=\u001b[0m\u001b[0mdata_pos\u001b[0m\u001b[1;33m,\u001b[0m \u001b[0mdtype\u001b[0m\u001b[1;33m=\u001b[0m\u001b[0mnp\u001b[0m\u001b[1;33m.\u001b[0m\u001b[0mint8\u001b[0m\u001b[1;33m)\u001b[0m\u001b[1;33m\u001b[0m\u001b[1;33m\u001b[0m\u001b[0m\n\u001b[0m\u001b[0;32m      2\u001b[0m \u001b[0mdf_neg\u001b[0m \u001b[1;33m=\u001b[0m \u001b[0mpd\u001b[0m\u001b[1;33m.\u001b[0m\u001b[0mDataFrame\u001b[0m\u001b[1;33m(\u001b[0m\u001b[0mdata\u001b[0m\u001b[1;33m=\u001b[0m\u001b[0mdata_neg\u001b[0m\u001b[1;33m,\u001b[0m \u001b[0mdtype\u001b[0m\u001b[1;33m=\u001b[0m\u001b[0mnp\u001b[0m\u001b[1;33m.\u001b[0m\u001b[0mint8\u001b[0m\u001b[1;33m)\u001b[0m\u001b[1;33m\u001b[0m\u001b[1;33m\u001b[0m\u001b[0m\n\u001b[0;32m      3\u001b[0m \u001b[0mdf_pos\u001b[0m\u001b[1;33m[\u001b[0m\u001b[1;34m'res'\u001b[0m\u001b[1;33m]\u001b[0m\u001b[1;33m=\u001b[0m\u001b[1;36m1\u001b[0m\u001b[1;33m\u001b[0m\u001b[1;33m\u001b[0m\u001b[0m\n\u001b[0;32m      4\u001b[0m \u001b[0mdf_neg\u001b[0m\u001b[1;33m[\u001b[0m\u001b[1;34m'res'\u001b[0m\u001b[1;33m]\u001b[0m\u001b[1;33m=\u001b[0m\u001b[1;36m0\u001b[0m\u001b[1;33m\u001b[0m\u001b[1;33m\u001b[0m\u001b[0m\n\u001b[0;32m      5\u001b[0m \u001b[0mdf\u001b[0m \u001b[1;33m=\u001b[0m \u001b[0mpd\u001b[0m\u001b[1;33m.\u001b[0m\u001b[0mconcat\u001b[0m\u001b[1;33m(\u001b[0m\u001b[1;33m[\u001b[0m\u001b[0mdf_pos\u001b[0m\u001b[1;33m,\u001b[0m\u001b[0mdf_neg\u001b[0m\u001b[1;33m]\u001b[0m\u001b[1;33m)\u001b[0m\u001b[1;33m\u001b[0m\u001b[1;33m\u001b[0m\u001b[0m\n",
      "\u001b[1;31mNameError\u001b[0m: name 'pd' is not defined"
     ]
    }
   ],
   "source": [
    "df_pos = pd.DataFrame(data=data_pos, dtype=np.int8)\n",
    "df_neg = pd.DataFrame(data=data_neg, dtype=np.int8)\n",
    "df_pos['res']=1\n",
    "df_neg['res']=0\n",
    "df = pd.concat([df_pos,df_neg])"
   ]
  },
  {
   "cell_type": "markdown",
   "metadata": {},
   "source": [
    "## Gaussian"
   ]
  }
 ],
 "metadata": {
  "kernelspec": {
   "display_name": "Python 3",
   "language": "python",
   "name": "python3"
  },
  "language_info": {
   "codemirror_mode": {
    "name": "ipython",
    "version": 3
   },
   "file_extension": ".py",
   "mimetype": "text/x-python",
   "name": "python",
   "nbconvert_exporter": "python",
   "pygments_lexer": "ipython3",
   "version": "3.7.4"
  }
 },
 "nbformat": 4,
 "nbformat_minor": 4
}
