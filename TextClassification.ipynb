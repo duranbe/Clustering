{
 "cells": [
  {
   "cell_type": "code",
   "execution_count": 154,
   "metadata": {},
   "outputs": [],
   "source": [
    "import numpy as np\n",
    "import pandas as pd\n",
    "import nltk\n",
    "import seaborn as sns\n",
    "\n",
    "from sklearn.model_selection import train_test_split\n",
    "from sklearn.naive_bayes import GaussianNB,MultinomialNB"
   ]
  },
  {
   "cell_type": "code",
   "execution_count": 106,
   "metadata": {},
   "outputs": [],
   "source": [
    "import glob #list .txt file\n",
    "pos_list=glob.glob(\"data\\\\movie-reviews-en\\\\train\\\\pos\\\\*.txt\")\n",
    "neg_list=glob.glob(\"data\\\\movie-reviews-en\\\\train\\\\neg\\\\*.txt\")"
   ]
  },
  {
   "cell_type": "code",
   "execution_count": 107,
   "metadata": {},
   "outputs": [],
   "source": [
    "full_text = ''\n",
    "\n",
    "for file in pos_list:\n",
    "    f = open(file, \"r\")\n",
    "    full_text += f.read()\n",
    "\n",
    "for file in neg_list:\n",
    "    f = open(file, \"r\")\n",
    "    full_text += f.read()\n",
    "    "
   ]
  },
  {
   "cell_type": "code",
   "execution_count": 108,
   "metadata": {},
   "outputs": [],
   "source": [
    "import string\n",
    "#Delete punctuation\n",
    "full_text = full_text.translate(str.maketrans('','', string.punctuation)).replace('\\n','')"
   ]
  },
  {
   "cell_type": "code",
   "execution_count": 109,
   "metadata": {},
   "outputs": [],
   "source": [
    "from collections import Counter\n",
    "#Count each word\n",
    "count = Counter(full_text.split())"
   ]
  },
  {
   "cell_type": "code",
   "execution_count": 110,
   "metadata": {},
   "outputs": [
    {
     "data": {
      "text/plain": [
       "45241"
      ]
     },
     "execution_count": 110,
     "metadata": {},
     "output_type": "execute_result"
    }
   ],
   "source": [
    "len(count) #Nb de mots"
   ]
  },
  {
   "cell_type": "code",
   "execution_count": 111,
   "metadata": {},
   "outputs": [
    {
     "data": {
      "text/plain": [
       "[('the', 68395),\n",
       " ('a', 34165),\n",
       " ('and', 31648),\n",
       " ('of', 30420),\n",
       " ('to', 28507),\n",
       " ('is', 22511)]"
      ]
     },
     "execution_count": 111,
     "metadata": {},
     "output_type": "execute_result"
    }
   ],
   "source": [
    "n_word = 200\n",
    "most_common = count.most_common(n_word)\n",
    "most_common[0:6]"
   ]
  },
  {
   "cell_type": "code",
   "execution_count": 112,
   "metadata": {},
   "outputs": [],
   "source": [
    "reducing = lambda x: x[0]"
   ]
  },
  {
   "cell_type": "code",
   "execution_count": 113,
   "metadata": {},
   "outputs": [],
   "source": [
    "n = len(pos_list)\n",
    "data_pos = np.zeros((n,n_word))\n",
    "\n",
    "for file,i in zip(pos_list,range(n)):\n",
    "    f = open(file, \"r\")\n",
    "    text = f.read()\n",
    "    \n",
    "    for j in range(0,n_word):\n",
    "        \n",
    "        if most_common[j][0] in text:\n",
    "            \n",
    "    \n",
    "            data_pos[i][j]=text.split(' ').count(most_common[j][0])\n",
    "            \n",
    "        else:\n",
    "            data_pos[i][j]=0 "
   ]
  },
  {
   "cell_type": "code",
   "execution_count": 114,
   "metadata": {},
   "outputs": [
    {
     "data": {
      "text/plain": [
       "array([[42., 15., 19., ...,  0.,  0.,  0.],\n",
       "       [28., 22., 17., ...,  1.,  0.,  0.],\n",
       "       [32.,  9.,  9., ...,  0.,  0.,  0.],\n",
       "       ...,\n",
       "       [39., 16., 25., ...,  0.,  0.,  1.],\n",
       "       [33., 13., 18., ...,  0.,  0.,  0.],\n",
       "       [28., 15., 16., ...,  0.,  1.,  0.]])"
      ]
     },
     "execution_count": 114,
     "metadata": {},
     "output_type": "execute_result"
    }
   ],
   "source": [
    "data_pos"
   ]
  },
  {
   "cell_type": "code",
   "execution_count": 115,
   "metadata": {},
   "outputs": [],
   "source": [
    "n = len(neg_list)\n",
    "data_neg = np.zeros((n,n_word))\n",
    "\n",
    "for file,i in zip(neg_list,range(n)):\n",
    "    f = open(file, \"r\")\n",
    "    text = f.read()\n",
    "    \n",
    "    for j in range(0,n_word):\n",
    "        \n",
    "        if most_common[j][0] in text:\n",
    "            data_neg[i][j]=text.split(' ').count(most_common[j][0])\n",
    "        else:\n",
    "            data_neg[i][j] =0 "
   ]
  },
  {
   "cell_type": "code",
   "execution_count": 202,
   "metadata": {},
   "outputs": [
    {
     "data": {
      "text/plain": [
       "94753"
      ]
     },
     "execution_count": 202,
     "metadata": {},
     "output_type": "execute_result"
    }
   ],
   "source": [
    "np.sum(data_neg<=0)"
   ]
  },
  {
   "cell_type": "code",
   "execution_count": 203,
   "metadata": {},
   "outputs": [
    {
     "data": {
      "text/plain": [
       "93446"
      ]
     },
     "execution_count": 203,
     "metadata": {},
     "output_type": "execute_result"
    }
   ],
   "source": [
    "np.sum(data_pos<=0)"
   ]
  },
  {
   "cell_type": "code",
   "execution_count": 118,
   "metadata": {},
   "outputs": [],
   "source": [
    "df_pos = pd.DataFrame(data=data_pos, dtype=np.int16,columns=list(map(reducing,most_common)))\n",
    "df_neg = pd.DataFrame(data=data_neg, dtype=np.int16,columns=list(map(reducing,most_common)))\n",
    "df_pos['class']=1\n",
    "df_neg['class']=0\n",
    "df = pd.concat([df_pos,df_neg])"
   ]
  },
  {
   "cell_type": "code",
   "execution_count": 128,
   "metadata": {},
   "outputs": [
    {
     "data": {
      "text/plain": [
       "0.0"
      ]
     },
     "execution_count": 128,
     "metadata": {},
     "output_type": "execute_result"
    }
   ],
   "source": [
    "df[df<0].sum().sum()"
   ]
  },
  {
   "cell_type": "code",
   "execution_count": 197,
   "metadata": {},
   "outputs": [
    {
     "data": {
      "text/plain": [
       "<matplotlib.axes._subplots.AxesSubplot at 0x2b566eae408>"
      ]
     },
     "execution_count": 197,
     "metadata": {},
     "output_type": "execute_result"
    },
    {
     "data": {
      "image/png": "[encoded data removed]",
      "text/plain": [
       "<Figure size 432x288 with 1 Axes>"
      ]
     },
     "metadata": {
      "needs_background": "light"
     },
     "output_type": "display_data"
    }
   ],
   "source": [
    "df['good'][df['class']==1].hist(alpha=0.7,color='#00e650') \n",
    "df['good'][df['class']==0].hist(alpha=0.7,color='#e60800')"
   ]
  },
  {
   "cell_type": "code",
   "execution_count": 122,
   "metadata": {},
   "outputs": [
    {
     "data": {
      "text/plain": [
       "<matplotlib.axes._subplots.AxesSubplot at 0x2b566541ac8>"
      ]
     },
     "execution_count": 122,
     "metadata": {},
     "output_type": "execute_result"
    },
    {
     "data": {
      "image/png": "[encoded data removed]",
      "text/plain": [
       "<Figure size 432x288 with 1 Axes>"
      ]
     },
     "metadata": {
      "needs_background": "light"
     },
     "output_type": "display_data"
    }
   ],
   "source": [
    "sns.distplot(df['the'][df['class']==0])"
   ]
  },
  {
   "cell_type": "code",
   "execution_count": 129,
   "metadata": {},
   "outputs": [
    {
     "data": {
      "text/html": [
       "<div>\n",
       "<style scoped>\n",
       "    .dataframe tbody tr th:only-of-type {\n",
       "        vertical-align: middle;\n",
       "    }\n",
       "\n",
       "    .dataframe tbody tr th {\n",
       "        vertical-align: top;\n",
       "    }\n",
       "\n",
       "    .dataframe thead th {\n",
       "        text-align: right;\n",
       "    }\n",
       "</style>\n",
       "<table border=\"1\" class=\"dataframe\">\n",
       "  <thead>\n",
       "    <tr style=\"text-align: right;\">\n",
       "      <th></th>\n",
       "      <th>the</th>\n",
       "      <th>a</th>\n",
       "      <th>and</th>\n",
       "      <th>of</th>\n",
       "      <th>to</th>\n",
       "      <th>is</th>\n",
       "      <th>in</th>\n",
       "      <th>that</th>\n",
       "      <th>it</th>\n",
       "      <th>as</th>\n",
       "      <th>...</th>\n",
       "      <th>plays</th>\n",
       "      <th>long</th>\n",
       "      <th>cast</th>\n",
       "      <th>john</th>\n",
       "      <th>old</th>\n",
       "      <th>ever</th>\n",
       "      <th>comes</th>\n",
       "      <th>young</th>\n",
       "      <th>without</th>\n",
       "      <th>class</th>\n",
       "    </tr>\n",
       "  </thead>\n",
       "  <tbody>\n",
       "    <tr>\n",
       "      <th>0</th>\n",
       "      <td>42</td>\n",
       "      <td>15</td>\n",
       "      <td>19</td>\n",
       "      <td>14</td>\n",
       "      <td>14</td>\n",
       "      <td>7</td>\n",
       "      <td>16</td>\n",
       "      <td>3</td>\n",
       "      <td>6</td>\n",
       "      <td>2</td>\n",
       "      <td>...</td>\n",
       "      <td>0</td>\n",
       "      <td>1</td>\n",
       "      <td>0</td>\n",
       "      <td>0</td>\n",
       "      <td>0</td>\n",
       "      <td>0</td>\n",
       "      <td>0</td>\n",
       "      <td>0</td>\n",
       "      <td>0</td>\n",
       "      <td>1</td>\n",
       "    </tr>\n",
       "    <tr>\n",
       "      <th>1</th>\n",
       "      <td>28</td>\n",
       "      <td>22</td>\n",
       "      <td>17</td>\n",
       "      <td>12</td>\n",
       "      <td>14</td>\n",
       "      <td>22</td>\n",
       "      <td>12</td>\n",
       "      <td>10</td>\n",
       "      <td>7</td>\n",
       "      <td>4</td>\n",
       "      <td>...</td>\n",
       "      <td>0</td>\n",
       "      <td>0</td>\n",
       "      <td>0</td>\n",
       "      <td>0</td>\n",
       "      <td>0</td>\n",
       "      <td>0</td>\n",
       "      <td>1</td>\n",
       "      <td>0</td>\n",
       "      <td>0</td>\n",
       "      <td>1</td>\n",
       "    </tr>\n",
       "    <tr>\n",
       "      <th>2</th>\n",
       "      <td>32</td>\n",
       "      <td>9</td>\n",
       "      <td>9</td>\n",
       "      <td>10</td>\n",
       "      <td>7</td>\n",
       "      <td>7</td>\n",
       "      <td>6</td>\n",
       "      <td>5</td>\n",
       "      <td>5</td>\n",
       "      <td>9</td>\n",
       "      <td>...</td>\n",
       "      <td>2</td>\n",
       "      <td>0</td>\n",
       "      <td>1</td>\n",
       "      <td>0</td>\n",
       "      <td>0</td>\n",
       "      <td>0</td>\n",
       "      <td>0</td>\n",
       "      <td>0</td>\n",
       "      <td>0</td>\n",
       "      <td>1</td>\n",
       "    </tr>\n",
       "    <tr>\n",
       "      <th>3</th>\n",
       "      <td>57</td>\n",
       "      <td>33</td>\n",
       "      <td>29</td>\n",
       "      <td>27</td>\n",
       "      <td>15</td>\n",
       "      <td>22</td>\n",
       "      <td>16</td>\n",
       "      <td>5</td>\n",
       "      <td>18</td>\n",
       "      <td>9</td>\n",
       "      <td>...</td>\n",
       "      <td>1</td>\n",
       "      <td>1</td>\n",
       "      <td>0</td>\n",
       "      <td>1</td>\n",
       "      <td>2</td>\n",
       "      <td>1</td>\n",
       "      <td>2</td>\n",
       "      <td>1</td>\n",
       "      <td>0</td>\n",
       "      <td>1</td>\n",
       "    </tr>\n",
       "    <tr>\n",
       "      <th>4</th>\n",
       "      <td>40</td>\n",
       "      <td>19</td>\n",
       "      <td>18</td>\n",
       "      <td>15</td>\n",
       "      <td>15</td>\n",
       "      <td>11</td>\n",
       "      <td>17</td>\n",
       "      <td>3</td>\n",
       "      <td>0</td>\n",
       "      <td>2</td>\n",
       "      <td>...</td>\n",
       "      <td>1</td>\n",
       "      <td>1</td>\n",
       "      <td>0</td>\n",
       "      <td>1</td>\n",
       "      <td>1</td>\n",
       "      <td>0</td>\n",
       "      <td>0</td>\n",
       "      <td>0</td>\n",
       "      <td>0</td>\n",
       "      <td>1</td>\n",
       "    </tr>\n",
       "  </tbody>\n",
       "</table>\n",
       "<p>5 rows × 201 columns</p>\n",
       "</div>"
      ],
      "text/plain": [
       "   the   a  and  of  to  is  in  that  it  as  ...  plays  long  cast  john  \\\n",
       "0   42  15   19  14  14   7  16     3   6   2  ...      0     1     0     0   \n",
       "1   28  22   17  12  14  22  12    10   7   4  ...      0     0     0     0   \n",
       "2   32   9    9  10   7   7   6     5   5   9  ...      2     0     1     0   \n",
       "3   57  33   29  27  15  22  16     5  18   9  ...      1     1     0     1   \n",
       "4   40  19   18  15  15  11  17     3   0   2  ...      1     1     0     1   \n",
       "\n",
       "   old  ever  comes  young  without  class  \n",
       "0    0     0      0      0        0      1  \n",
       "1    0     0      1      0        0      1  \n",
       "2    0     0      0      0        0      1  \n",
       "3    2     1      2      1        0      1  \n",
       "4    1     0      0      0        0      1  \n",
       "\n",
       "[5 rows x 201 columns]"
      ]
     },
     "execution_count": 129,
     "metadata": {},
     "output_type": "execute_result"
    }
   ],
   "source": [
    "df.head()"
   ]
  },
  {
   "cell_type": "code",
   "execution_count": 185,
   "metadata": {},
   "outputs": [],
   "source": [
    "mean_pos = df_pos.mean(axis=0).to_numpy()[0:201]\n",
    "std_pos = df_pos.std(axis=0).to_numpy()[0:201]"
   ]
  },
  {
   "cell_type": "code",
   "execution_count": 149,
   "metadata": {},
   "outputs": [],
   "source": [
    "mean_neg = df_neg.mean(axis=0)\n",
    "std_neg = df_neg.std(axis=0)"
   ]
  },
  {
   "cell_type": "code",
   "execution_count": 188,
   "metadata": {},
   "outputs": [
    {
     "name": "stdout",
     "output_type": "stream",
     "text": [
      "36.89888888888889 20.34135277708635 28 0\n",
      "19.724444444444444 10.02775138303821 13 1\n",
      "18.9 9.849309558360842 20 2\n",
      "18.32888888888889 10.748652754075048 16 3\n",
      "16.232222222222223 8.988589080310549 11 4\n",
      "13.87 7.80275399885384 7 5\n",
      "10.731111111111112 6.419600208712255 10 6\n",
      "7.56 5.492816625626475 7 7\n",
      "5.437777777777778 4.501330362680391 5 8\n",
      "5.903333333333333 4.08701108657684 5 9\n",
      "5.633333333333334 3.6172556415013446 6 10\n",
      "4.964444444444444 3.375443319003039 6 11\n",
      "5.25 4.859854614523441 4 12\n",
      "3.796666666666667 3.1183175492809427 8 13\n",
      "4.857777777777778 4.548074138690962 3 14\n",
      "3.5044444444444443 2.956296841439929 2 15\n",
      "3.528888888888889 3.76540202092509 2 16\n",
      "2.6233333333333335 3.352370369868788 4 17\n",
      "3.473333333333333 2.5518777574538647 2 18\n",
      "3.6855555555555557 3.0035226300705955 2 19\n",
      "3.4144444444444444 2.8527862816300367 2 20\n",
      "2.9444444444444446 2.5244570605870376 2 21\n",
      "1.2266666666666666 1.624944595615774 0 22\n",
      "2.9355555555555557 2.2753362088773827 3 23\n",
      "2.6255555555555556 2.326232906500577 1 24\n",
      "2.716666666666667 2.485721180795236 3 25\n",
      "2.9277777777777776 2.3823380416212303 2 26\n",
      "2.3344444444444443 2.7046559415579865 4 27\n",
      "2.321111111111111 1.9759957962944104 1 28\n",
      "2.578888888888889 2.146316110542087 2 29\n",
      "2.45 3.0797248623913056 3 30\n",
      "2.2066666666666666 2.1945325934400577 2 31\n",
      "2.57 2.309864227069898 0 32\n",
      "2.022222222222222 2.48097444784334 4 33\n",
      "2.3144444444444443 3.6844398517796138 0 34\n",
      "1.8233333333333333 2.350043191802449 2 35\n",
      "1.968888888888889 1.867445147273248 3 36\n",
      "1.4966666666666666 1.6772342030099388 3 37\n",
      "1.6388888888888888 1.8064397500360878 1 38\n",
      "1.6966666666666668 1.7686523844306343 1 39\n",
      "1.6711111111111112 1.6156385654880931 2 40\n",
      "1.7777777777777777 1.8345211374450126 3 41\n",
      "1.3177777777777777 1.4694196699233617 0 42\n",
      "1.7322222222222223 2.0941322640747604 6 43\n",
      "1.5944444444444446 2.0426411565848315 0 44\n",
      "1.528888888888889 1.5422304784296044 3 45\n",
      "1.4066666666666667 1.554769474916935 1 46\n",
      "1.3433333333333333 1.6212266878211914 0 47\n",
      "1.3355555555555556 1.618394754688947 5 48\n",
      "1.271111111111111 1.4651490446033093 1 49\n",
      "0.9322222222222222 1.1805173898023513 3 50\n",
      "0.8711111111111111 1.1315325176883266 2 51\n",
      "1.4755555555555555 1.9333908676696065 0 52\n",
      "1.1511111111111112 2.255496040854477 1 53\n",
      "1.3655555555555556 1.4231254759790755 0 54\n",
      "0.9833333333333333 1.1710020617823667 1 55\n",
      "1.09 1.3018810725369785 0 56\n",
      "1.271111111111111 1.393552964649142 0 57\n",
      "0.9244444444444444 1.2194485442993466 1 58\n",
      "1.1744444444444444 1.508453090254207 0 59\n",
      "1.0077777777777779 1.6376227227082982 0 60\n",
      "1.308888888888889 1.552968698499536 1 61\n",
      "1.1588888888888889 1.345812476664493 2 62\n",
      "1.1288888888888888 1.2904409783771869 0 63\n",
      "1.2255555555555555 1.8252987389309319 3 64\n",
      "1.2133333333333334 1.7146363325962022 0 65\n",
      "0.8288888888888889 1.3137625613974453 2 66\n",
      "0.9844444444444445 1.3239398437710859 0 67\n",
      "0.9844444444444445 1.333149783435745 1 68\n",
      "0.9755555555555555 1.2022699249496813 0 69\n",
      "1.0722222222222222 1.3695827882848612 6 70\n",
      "0.9333333333333333 1.4212748667801895 0 71\n",
      "0.8711111111111111 1.125618796022312 2 72\n",
      "1.0166666666666666 1.2868592285414568 0 73\n",
      "0.8422222222222222 1.0988899017603306 0 74\n",
      "1.0022222222222221 1.3920142317187802 2 75\n",
      "1.1288888888888888 1.5928961069896665 2 76\n",
      "0.9488888888888889 1.27944687406205 2 77\n",
      "0.9222222222222223 1.2658584936193493 0 78\n",
      "0.6966666666666667 0.9387173223851468 1 79\n",
      "0.9111111111111111 1.3083495402003547 0 80\n",
      "0.9288888888888889 1.2644927972745297 3 81\n",
      "0.9177777777777778 1.218103869221782 0 82\n",
      "0.8666666666666667 1.1582273287442564 2 83\n",
      "0.8133333333333334 1.252645698443378 1 84\n",
      "0.7566666666666667 0.9790406418634863 1 85\n",
      "0.6777777777777778 0.9221990666481712 1 86\n",
      "0.8433333333333334 1.0666915783149566 0 87\n",
      "0.76 1.2900578148826165 1 88\n",
      "0.7288888888888889 1.0619566012852053 1 89\n",
      "0.7155555555555555 1.106750558577845 0 90\n",
      "0.6122222222222222 0.9070638347963726 1 91\n",
      "0.6688888888888889 1.037306819673497 1 92\n",
      "0.7388888888888889 1.2486428177893816 0 93\n",
      "0.9711111111111111 1.517143006440021 0 94\n",
      "0.7433333333333333 1.084684562749654 0 95\n",
      "0.6022222222222222 1.0597266818465625 1 96\n",
      "0.5533333333333333 0.9553083353414534 1 97\n",
      "0.6422222222222222 1.1566875510344536 1 98\n",
      "0.7355555555555555 1.1176917967025906 1 99\n",
      "0.6266666666666667 0.919786211074244 0 100\n",
      "0.5877777777777777 1.085891705441253 3 101\n",
      "0.6088888888888889 0.9086954117734249 2 102\n",
      "0.35777777777777775 0.7282596588872513 0 103\n",
      "0.5211111111111111 0.9113051482853102 1 104\n",
      "0.7177777777777777 1.2100412092540247 0 105\n",
      "0.5866666666666667 1.072582777854646 0 106\n",
      "0.6933333333333334 1.0287091385116578 1 107\n",
      "0.7011111111111111 1.045462088088069 0 108\n",
      "0.8022222222222222 1.1776541771752926 0 109\n",
      "0.5988888888888889 0.9422707578976308 0 110\n",
      "0.6622222222222223 0.9298627140142005 0 111\n",
      "0.71 1.1540469007651897 1 112\n",
      "0.6277777777777778 1.005162179596931 1 113\n",
      "0.7033333333333334 1.1249966011566503 0 114\n",
      "0.7255555555555555 1.0885245405785984 6 115\n",
      "0.0 0.0 0 116\n"
     ]
    },
    {
     "ename": "FloatingPointError",
     "evalue": "invalid value encountered in double_scalars",
     "output_type": "error",
     "traceback": [
      "\u001b[1;31m---------------------------------------------------------------------------\u001b[0m",
      "\u001b[1;31mFloatingPointError\u001b[0m                        Traceback (most recent call last)",
      "\u001b[1;32m<ipython-input-188-b32ee970363f>\u001b[0m in \u001b[0;36m<module>\u001b[1;34m\u001b[0m\n\u001b[0;32m     18\u001b[0m \u001b[1;33m\u001b[0m\u001b[0m\n\u001b[0;32m     19\u001b[0m \u001b[1;33m\u001b[0m\u001b[0m\n\u001b[1;32m---> 20\u001b[1;33m \u001b[0mlog_vraisemblance\u001b[0m\u001b[1;33m(\u001b[0m\u001b[0mtest\u001b[0m\u001b[1;33m,\u001b[0m\u001b[0mmean_pos\u001b[0m\u001b[1;33m,\u001b[0m\u001b[0mstd_pos\u001b[0m\u001b[1;33m)\u001b[0m\u001b[1;33m\u001b[0m\u001b[1;33m\u001b[0m\u001b[0m\n\u001b[0m",
      "\u001b[1;32m<ipython-input-188-b32ee970363f>\u001b[0m in \u001b[0;36mlog_vraisemblance\u001b[1;34m(words, means, stds)\u001b[0m\n\u001b[0;32m     10\u001b[0m     \u001b[1;32mfor\u001b[0m \u001b[0mm\u001b[0m\u001b[1;33m,\u001b[0m\u001b[0ms\u001b[0m\u001b[1;33m,\u001b[0m\u001b[0mx\u001b[0m \u001b[1;32min\u001b[0m \u001b[0mzip\u001b[0m\u001b[1;33m(\u001b[0m\u001b[0mmeans\u001b[0m\u001b[1;33m,\u001b[0m\u001b[0mstds\u001b[0m\u001b[1;33m,\u001b[0m\u001b[0mwords\u001b[0m\u001b[1;33m)\u001b[0m\u001b[1;33m:\u001b[0m\u001b[1;33m\u001b[0m\u001b[1;33m\u001b[0m\u001b[0m\n\u001b[0;32m     11\u001b[0m         \u001b[0mprint\u001b[0m\u001b[1;33m(\u001b[0m\u001b[0mm\u001b[0m\u001b[1;33m,\u001b[0m\u001b[0ms\u001b[0m\u001b[1;33m,\u001b[0m\u001b[0mx\u001b[0m\u001b[1;33m,\u001b[0m\u001b[0mi\u001b[0m\u001b[1;33m)\u001b[0m\u001b[1;33m\u001b[0m\u001b[1;33m\u001b[0m\u001b[0m\n\u001b[1;32m---> 12\u001b[1;33m         \u001b[0mr\u001b[0m\u001b[1;33m=\u001b[0m\u001b[0mscipy\u001b[0m\u001b[1;33m.\u001b[0m\u001b[0mstats\u001b[0m\u001b[1;33m.\u001b[0m\u001b[0mnorm\u001b[0m\u001b[1;33m.\u001b[0m\u001b[0mpdf\u001b[0m\u001b[1;33m(\u001b[0m\u001b[0mx\u001b[0m\u001b[1;33m,\u001b[0m\u001b[0mloc\u001b[0m\u001b[1;33m=\u001b[0m\u001b[0mm\u001b[0m\u001b[1;33m,\u001b[0m\u001b[0mscale\u001b[0m\u001b[1;33m=\u001b[0m\u001b[0ms\u001b[0m\u001b[1;33m)\u001b[0m\u001b[1;33m\u001b[0m\u001b[1;33m\u001b[0m\u001b[0m\n\u001b[0m\u001b[0;32m     13\u001b[0m         \u001b[0mres\u001b[0m\u001b[1;33m.\u001b[0m\u001b[0mappend\u001b[0m\u001b[1;33m(\u001b[0m\u001b[0mlogsumexp\u001b[0m\u001b[1;33m(\u001b[0m\u001b[0mr\u001b[0m\u001b[1;33m)\u001b[0m\u001b[1;33m)\u001b[0m\u001b[1;33m\u001b[0m\u001b[1;33m\u001b[0m\u001b[0m\n\u001b[0;32m     14\u001b[0m         \u001b[0mi\u001b[0m\u001b[1;33m+=\u001b[0m\u001b[1;36m1\u001b[0m\u001b[1;33m\u001b[0m\u001b[1;33m\u001b[0m\u001b[0m\n",
      "\u001b[1;32m~\\Anaconda3\\lib\\site-packages\\scipy\\stats\\_distn_infrastructure.py\u001b[0m in \u001b[0;36mpdf\u001b[1;34m(self, x, *args, **kwds)\u001b[0m\n\u001b[0;32m   1738\u001b[0m         \u001b[0margs\u001b[0m \u001b[1;33m=\u001b[0m \u001b[0mtuple\u001b[0m\u001b[1;33m(\u001b[0m\u001b[0mmap\u001b[0m\u001b[1;33m(\u001b[0m\u001b[0masarray\u001b[0m\u001b[1;33m,\u001b[0m \u001b[0margs\u001b[0m\u001b[1;33m)\u001b[0m\u001b[1;33m)\u001b[0m\u001b[1;33m\u001b[0m\u001b[1;33m\u001b[0m\u001b[0m\n\u001b[0;32m   1739\u001b[0m         \u001b[0mdtyp\u001b[0m \u001b[1;33m=\u001b[0m \u001b[0mnp\u001b[0m\u001b[1;33m.\u001b[0m\u001b[0mfind_common_type\u001b[0m\u001b[1;33m(\u001b[0m\u001b[1;33m[\u001b[0m\u001b[0mx\u001b[0m\u001b[1;33m.\u001b[0m\u001b[0mdtype\u001b[0m\u001b[1;33m,\u001b[0m \u001b[0mnp\u001b[0m\u001b[1;33m.\u001b[0m\u001b[0mfloat64\u001b[0m\u001b[1;33m]\u001b[0m\u001b[1;33m,\u001b[0m \u001b[1;33m[\u001b[0m\u001b[1;33m]\u001b[0m\u001b[1;33m)\u001b[0m\u001b[1;33m\u001b[0m\u001b[1;33m\u001b[0m\u001b[0m\n\u001b[1;32m-> 1740\u001b[1;33m         \u001b[0mx\u001b[0m \u001b[1;33m=\u001b[0m \u001b[0mnp\u001b[0m\u001b[1;33m.\u001b[0m\u001b[0masarray\u001b[0m\u001b[1;33m(\u001b[0m\u001b[1;33m(\u001b[0m\u001b[0mx\u001b[0m \u001b[1;33m-\u001b[0m \u001b[0mloc\u001b[0m\u001b[1;33m)\u001b[0m\u001b[1;33m/\u001b[0m\u001b[0mscale\u001b[0m\u001b[1;33m,\u001b[0m \u001b[0mdtype\u001b[0m\u001b[1;33m=\u001b[0m\u001b[0mdtyp\u001b[0m\u001b[1;33m)\u001b[0m\u001b[1;33m\u001b[0m\u001b[1;33m\u001b[0m\u001b[0m\n\u001b[0m\u001b[0;32m   1741\u001b[0m         \u001b[0mcond0\u001b[0m \u001b[1;33m=\u001b[0m \u001b[0mself\u001b[0m\u001b[1;33m.\u001b[0m\u001b[0m_argcheck\u001b[0m\u001b[1;33m(\u001b[0m\u001b[1;33m*\u001b[0m\u001b[0margs\u001b[0m\u001b[1;33m)\u001b[0m \u001b[1;33m&\u001b[0m \u001b[1;33m(\u001b[0m\u001b[0mscale\u001b[0m \u001b[1;33m>\u001b[0m \u001b[1;36m0\u001b[0m\u001b[1;33m)\u001b[0m\u001b[1;33m\u001b[0m\u001b[1;33m\u001b[0m\u001b[0m\n\u001b[0;32m   1742\u001b[0m         \u001b[0mcond1\u001b[0m \u001b[1;33m=\u001b[0m \u001b[0mself\u001b[0m\u001b[1;33m.\u001b[0m\u001b[0m_support_mask\u001b[0m\u001b[1;33m(\u001b[0m\u001b[0mx\u001b[0m\u001b[1;33m,\u001b[0m \u001b[1;33m*\u001b[0m\u001b[0margs\u001b[0m\u001b[1;33m)\u001b[0m \u001b[1;33m&\u001b[0m \u001b[1;33m(\u001b[0m\u001b[0mscale\u001b[0m \u001b[1;33m>\u001b[0m \u001b[1;36m0\u001b[0m\u001b[1;33m)\u001b[0m\u001b[1;33m\u001b[0m\u001b[1;33m\u001b[0m\u001b[0m\n",
      "\u001b[1;31mFloatingPointError\u001b[0m: invalid value encountered in double_scalars"
     ]
    }
   ],
   "source": [
    "import scipy \n",
    "from scipy.special import logsumexp\n",
    "\n",
    "np.seterr('raise')\n",
    "\n",
    "def log_vraisemblance(words,means,stds):\n",
    "    \n",
    "    res = []\n",
    "    i=0\n",
    "    for m,s,x in zip(means,stds,words):\n",
    "        print(m,s,x,i)\n",
    "        r=scipy.stats.norm.pdf(x,loc=m,scale=s)\n",
    "        res.append(logsumexp(r))\n",
    "        i+=1\n",
    "    return(np.sum(res))\n",
    "    \n",
    "test = data_pos[34].astype(np.int16)\n",
    "\n",
    "log_vraisemblance(test,mean_pos,std_pos)"
   ]
  },
  {
   "cell_type": "code",
   "execution_count": 195,
   "metadata": {},
   "outputs": [
    {
     "data": {
      "text/plain": [
       "('doesnt', 1118)"
      ]
     },
     "execution_count": 195,
     "metadata": {},
     "output_type": "execute_result"
    }
   ],
   "source": [
    "most_common[116]"
   ]
  },
  {
   "cell_type": "code",
   "execution_count": 201,
   "metadata": {},
   "outputs": [
    {
     "data": {
      "text/plain": [
       "0"
      ]
     },
     "execution_count": 201,
     "metadata": {},
     "output_type": "execute_result"
    }
   ],
   "source": [
    "df_pos['doesnt'].sum()\n",
    "df_neg['doesnt'].sum()"
   ]
  },
  {
   "cell_type": "markdown",
   "metadata": {},
   "source": [
    "### SKlearn Test"
   ]
  },
  {
   "cell_type": "code",
   "execution_count": 123,
   "metadata": {},
   "outputs": [],
   "source": [
    "X_train, X_test, y_train, y_test = train_test_split(df.drop(columns=['class']), df['class'], test_size=0.3, random_state=42)"
   ]
  },
  {
   "cell_type": "code",
   "execution_count": 124,
   "metadata": {},
   "outputs": [
    {
     "data": {
      "text/plain": [
       "0.6833333333333333"
      ]
     },
     "execution_count": 124,
     "metadata": {},
     "output_type": "execute_result"
    }
   ],
   "source": [
    "clf = GaussianNB()\n",
    "y_pred = clf.fit(X_train, y_train)\n",
    "clf.score(X_test,y_test)"
   ]
  },
  {
   "cell_type": "code",
   "execution_count": 125,
   "metadata": {},
   "outputs": [],
   "source": [
    "#https://dridk.me/maximum-de-vraissemblance.html\n",
    "#https://dridk.me/expectation-maximisation.html"
   ]
  }
 ],
 "metadata": {
  "kernelspec": {
   "display_name": "Python 3",
   "language": "python",
   "name": "python3"
  },
  "language_info": {
   "codemirror_mode": {
    "name": "ipython",
    "version": 3
   },
   "file_extension": ".py",
   "mimetype": "text/x-python",
   "name": "python",
   "nbconvert_exporter": "python",
   "pygments_lexer": "ipython3",
   "version": "3.7.4"
  }
 },
 "nbformat": 4,
 "nbformat_minor": 4
}
