{
 "cells": [
  {
   "cell_type": "markdown",
   "metadata": {},
   "source": [
    "## Understang KMedoids\n",
    "Doc : http://eric.univ-lyon2.fr/~ricco/cours/slides/classif_k_medoides.pdf"
   ]
  },
  {
   "cell_type": "code",
   "execution_count": 1,
   "metadata": {},
   "outputs": [],
   "source": [
    "import numpy as np\n",
    "import matplotlib.pyplot as plt \n",
    "\n",
    "# 2D Points Dataset\n",
    "x = np.array([1,0,2.5,6,1,8,3,0,3,9,8,4,5,6.5])\n",
    "y = np.array([1,4,7,2,3,4,7,2,6,1,3,6,7,5])\n",
    "\n",
    "n = x.shape[0] #Nb of points\n",
    "k = 3 # Nb of clusters    k<n\n",
    "\n",
    "points = np.array([x,y])\n",
    "points = points.T # n 2D points  \n",
    "\n",
    "\n",
    "medoids = points[np.random.randint(low=0,high=n,size=k)]   #Get random points \n",
    "\n",
    "l = points.shape[1] #Len of vector : 2 (Point)"
   ]
  },
  {
   "cell_type": "code",
   "execution_count": 2,
   "metadata": {},
   "outputs": [
    {
     "data": {
      "text/plain": [
       "array([[6.5, 5. ],\n",
       "       [0. , 4. ],\n",
       "       [1. , 1. ]])"
      ]
     },
     "execution_count": 2,
     "metadata": {},
     "output_type": "execute_result"
    }
   ],
   "source": [
    "medoids"
   ]
  },
  {
   "cell_type": "code",
   "execution_count": 3,
   "metadata": {},
   "outputs": [
    {
     "data": {
      "image/png": "[encoded data removed]",
      "text/plain": [
       "<Figure size 432x288 with 1 Axes>"
      ]
     },
     "metadata": {
      "needs_background": "light"
     },
     "output_type": "display_data"
    }
   ],
   "source": [
    "plt.scatter(points[:,0],points[:,1],color='blue')\n",
    "plt.scatter(medoids[:,0],medoids[:,1],color='red')\n",
    "for i in range(0,n): \n",
    "    plt.text(points[i][0], points[i][1], str(i), fontsize=15)\n",
    "for i in range(0,k): \n",
    "    plt.text(medoids[i,0],medoids[i,1],chr(i+65), fontsize=15)"
   ]
  },
  {
   "cell_type": "markdown",
   "metadata": {},
   "source": [
    "## Euclidean distance calculation\n"
   ]
  },
  {
   "cell_type": "markdown",
   "metadata": {},
   "source": [
    "#### Inputs : \n",
    "\n",
    "<img src=\"img/Understanding_KMeans/Input.png\" width=150  />\n",
    "\n",
    "To compute the distance between each point and each middles we need to broadcast the two array \n",
    "<img src=\"img/Understanding_KMeans/step1.1.png\" width=450  />\n",
    "So now we can calculate substract each point by each middle and then pass the result to the the norm function\n",
    "<img src=\"img/Understanding_KMeans/norm.PNG\" width=300  />\n",
    "\n",
    "<img src=\"img/Understanding_KMeans/step2.png\" width=300  />\n",
    "Then for each point we can choose the min distance\n",
    "\n",
    "Our result will be :  [1, 1, 2, 1, 1, 1, 2, 1, 2, 1, 1, 2, 2]"
   ]
  },
  {
   "cell_type": "code",
   "execution_count": 4,
   "metadata": {},
   "outputs": [],
   "source": [
    "def euclid_distances(points,medoids):\n",
    "    \n",
    "    k = medoids.shape[0]\n",
    "    n = points.shape[0]\n",
    "    l = points.shape[1]\n",
    "\n",
    "    points=np.broadcast_to(points,(k,n,l)) \n",
    "    # (k,n,2)\n",
    "    \n",
    "    c = np.zeros((k,n,l))\n",
    "    for i in range(0,k):         #Need to find a numpy way to do this to avoid loops\n",
    "        c[i]=np.broadcast_to(medoids[i],(n,l))\n",
    "    # (k,n,2)\n",
    "    \n",
    "    d = np.linalg.norm(points-c,axis=2) # Euclidean Distance\n",
    "    # (k,n) because distance is a scalar here\n",
    " \n",
    "    args=np.argmin(d,axis=0) #For each point get the argument of the minimum distance\n",
    "    \n",
    "    return(args)\n"
   ]
  },
  {
   "cell_type": "code",
   "execution_count": 9,
   "metadata": {},
   "outputs": [],
   "source": [
    "def calc_new_medoids(points,belongs):\n",
    "    #Choose new medoid for each class\n",
    "    \n",
    "    k = len(np.unique(belongs))\n",
    "    l = points.shape[1]\n",
    "    \n",
    "    new_medoids = np.zeros((k,l))\n",
    "    \n",
    "    for i in range(k):\n",
    "        current_class_points = points[belongs == i]\n",
    "        \n",
    "        a,b = current_class_points.shape\n",
    "        \n",
    "        q = np.broadcast_to(current_class_points,(a,a,b))\n",
    "        \n",
    "        c = np.zeros((a,a,b))\n",
    "        for j in range(0,a):         #Need to find a numpy way to do this to avoid loops\n",
    "            c[j] = np.broadcast_to(current_class_points[j],(a,b))\n",
    "\n",
    "        v = np.linalg.norm(q-c,axis=2)\n",
    "        s = np.sum(v,axis=1)\n",
    "        ind = np.argmin(s)\n",
    "        new_medoids[i] = current_class_points[ind]\n",
    "        \n",
    "    return(new_medoids)"
   ]
  },
  {
   "cell_type": "code",
   "execution_count": 6,
   "metadata": {},
   "outputs": [],
   "source": [
    "def scatter_plot(points,middles,belongs):\n",
    "    plt.scatter(points[:,0],points[:,1],color='blue')\n",
    "    plt.scatter(middles[:,0],middles[:,1],color='red')\n",
    "    \n",
    "    for i in range(0,n): \n",
    "        plt.text(points[i][0], points[i][1], chr(belongs[i]+65), fontsize=15)\n",
    "    for i in range(0,k): \n",
    "        plt.text(middles[i,0],middles[i,1], chr(i+65), fontsize=15)"
   ]
  },
  {
   "cell_type": "markdown",
   "metadata": {},
   "source": [
    "### Running the Algorithm"
   ]
  },
  {
   "cell_type": "code",
   "execution_count": 10,
   "metadata": {},
   "outputs": [],
   "source": [
    "for p in range(5):\n",
    "    belongs = euclid_distances(points,medoids)\n",
    "    medoids = calc_new_medoids(points,belongs)"
   ]
  },
  {
   "cell_type": "code",
   "execution_count": 11,
   "metadata": {},
   "outputs": [
    {
     "data": {
      "image/png": "[encoded data removed]",
      "text/plain": [
       "<Figure size 432x288 with 1 Axes>"
      ]
     },
     "metadata": {
      "needs_background": "light"
     },
     "output_type": "display_data"
    }
   ],
   "source": [
    "scatter_plot(points,medoids,belongs)"
   ]
  }
 ],
 "metadata": {
  "kernelspec": {
   "display_name": "Python 3",
   "language": "python",
   "name": "python3"
  },
  "language_info": {
   "codemirror_mode": {
    "name": "ipython",
    "version": 3
   },
   "file_extension": ".py",
   "mimetype": "text/x-python",
   "name": "python",
   "nbconvert_exporter": "python",
   "pygments_lexer": "ipython3",
   "version": "3.7.4"
  }
 },
 "nbformat": 4,
 "nbformat_minor": 4
}
